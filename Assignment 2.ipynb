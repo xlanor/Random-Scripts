{
 "cells": [
  {
   "cell_type": "markdown",
   "metadata": {
    "collapsed": false
   },
   "source": [
    "**Preamble**\n",
    "\n",
    "**Colloboration Policy**. The student is to *explicitly identify* his/her collaborators in the assignment. If the student did not work with anyone, he/she should indicate `Collaborators=['none']`. If the student obtains a solution through research (e.g., on the web), acknowledge the source, but write up the solution in his/her own words. There will be a one mark penalty if a student fails to indicate his/her collaborators.\n",
    "\n",
    "**Submission Deadline**. I will allow late submissions. However, a late submission will be subject to a penalty that is commensurate to the 'lateness'. Specifically, the penalty is as follows.\n",
    "```\n",
    "* Before 21 Mar (Wed), 13:00hrs                    = No penalty\n",
    "* 21 Mar (Wed), 13:01hrs to 22 Mar (Thu), 13:00hrs = 1 Mark Penalty\n",
    "* 22 Mar (Thu), 13:01hrs to 23 Mar (Fri), 13:00hrs = 2 Marks Penalty\n",
    "* 23 Mar (Fri), 13:01hrs to 24 Mar (Sat), 13:00hrs = 3 Marks Penalty\n",
    "* 24 Mar (Sat), 13:01hrs to 25 Mar (Sun), 13:00hrs = 4 Marks Penalty\n",
    "* 25 Mar (Sun), 13:01hrs to 26 Mar (Mon), 13:00hrs = 5 Marks Penalty\n",
    "* After 26 Mar (Mon), 13:01hrs                     = Assignment is no longer graded.\n",
    "```\n",
    "\n",
    "\n",
    "**There will be NO EXCEPTIONS to this grading policy.**\n"
   ]
  },
  {
   "cell_type": "code",
   "execution_count": 0,
   "metadata": {
    "cocalc": {
     "outputs": {
      "1": {
       "name": "input",
       "opts": {
        "password": false,
        "prompt": "Collaborators:"
       },
       "output_type": "stream",
       "value": "none"
      },
      "3": {
       "name": "input",
       "opts": {
        "password": false,
        "prompt": "Enter the date:"
       },
       "output_type": "stream",
       "value": "22"
      },
      "4": {
       "name": "input",
       "opts": {
        "password": false,
        "prompt": "Enter the hour (in 24 hours format):"
       },
       "output_type": "stream",
       "value": "12"
      },
      "5": {
       "name": "input",
       "opts": {
        "password": false,
        "prompt": "Enter the minutes:"
       },
       "output_type": "stream",
       "value": "20"
      }
     }
    }
   },
   "outputs": [
   ],
   "source": [
    "Name = 'CHANGETHIS'\n",
    "Collaborators = 'CHANGETHIS'\n",
    "\n",
    "\n",
    "# Indicate your submission time. You may deviate slightly from the actual submission time. Be mindful that I am able to check the edit history.\n",
    "\n",
    "date = 28 # CHANGETHIS # DATE ONLY. I.E. INTEGER BETWEEN 1 and 31\n",
    "hour = 13 #'Enter the hour (in 24 hours format)'\n",
    "date = 28\n",
    "hour = 13\n",
    "\n",
    "print('Your name is {}.'.format(Name))\n",
    "print('Your collaborators are {}.'.format(Collaborators))\n",
    "print('Your submission is on {} Mar at {}00hrs.'.format(date,hour))\n",
    "print()\n",
    "\n",
    "penalty=0\n",
    "    \n",
    "penalty += date-21\n",
    "\n",
    "if (hour>13): penalty+=1    \n",
    "    \n",
    "if penalty>=5:\n",
    "    \n",
    "    print(\"******************\")\n",
    "    print(\"Your assignment is NOT graded.\")\n",
    "    print(\"******************\")\n",
    "\n",
    "    \n",
    "else:\n",
    "    \n",
    "    penalty=max([0,penalty])\n",
    "    \n",
    "    pc=0\n",
    "    if Collaborators=='' or Collaborators=='CHANGETHIS': \n",
    "        penalty+=1\n",
    "        pc=1\n",
    "    \n",
    "    print(\"******************\")\n",
    "    print(\"Your penalty: {}\".format(penalty))\n",
    "    if(pc>0): print(\"You were penalized for not indicating your collaborators!\")\n",
    "    print(\"******************\")"
   ]
  },
  {
   "cell_type": "markdown",
   "metadata": {
    "collapsed": false
   },
   "source": [
    "# Assignment 2\n",
    "# We are Riding in Two Vans\n",
    "\n",
    "Congratulations! You have caught the bully in the class! You are now bringing the class on an outing in *two* minivans. \n",
    "Unfortunately, an hour before the outing there was a big fight and some students now bear grudges with each other. \n",
    "In order to protect the sanity of your colleague and you, your task is to assign the students so that no two students with a grudge are in the same minivan. Your algorithm has to run in $O(n+m)$ time where $n$ is the number of students and $m$ is the number of grudges.\n",
    "\n",
    "We will represent the class and the grudes as a dictionary `grudge_list` of `n` keys, corresponding to `n` students. \n",
    "The value of key `x`, that is, `grudge_list['x']`, is a list of students that has a grudge with `x`. For example,\n",
    "\n",
    "```\n",
    "grudge_list_1 = {\n",
    "'Abby' : ['CookieMonster', 'Zoe'],\n",
    "'BigBird' :  ['Telly', 'Zoe'],\n",
    "'Elmo' : ['Telly'],\n",
    "'Grover' : ['Bert'],\n",
    "'Telly' : ['Bert', 'BigBird', 'Elmo', 'Oscar', 'Zoe'],\n",
    "'Bert' : ['Grover', 'Telly', 'Zoe'], \n",
    "'CookieMonster' : ['Abby'], \n",
    "'Ernie' : [],\n",
    "'Oscar' : ['Telly']\n",
    "'Zoe' : ['Abby', 'Bert', 'BigBird', 'Telly']\n",
    "}\n",
    "```"
   ]
  },
  {
   "cell_type": "markdown",
   "metadata": {
    "collapsed": false
   },
   "source": [
    "**(a)** Design an algorithm that assigns the students so that no two students with a grudge are in the same van. If no such assignment is possible, your algorithm should state so. Describe the idea behind your algorithm. **(2 marks)**"
   ]
  },
  {
   "cell_type": "markdown",
   "metadata": {
    "collapsed": false
   },
   "source": [
    "*Your answer goes here*. You can double click this line to edit. $\\LaTeX$ is supported within two dollar signs ($). Press Shift+Enter to render.\n"
   ]
  },
  {
   "cell_type": "markdown",
   "metadata": {
    "collapsed": false
   },
   "source": [
    "**(b)** Implement a routine `assign` for your algorithm. This routine takes a grudge list as input and outputs an assignment of two lists representing the vans if possible and `None` otherwise. **(2 marks)**"
   ]
  },
  {
   "cell_type": "code",
   "execution_count": 1,
   "metadata": {
    "collapsed": false
   },
   "outputs": [
   ],
   "source": [
    "def assign(grudge_list):\n",
    "    van = {}                                         # States which van a student is assigned to. 0 means unassigned, 1 means van 1 and -1 means van 2.\n",
    "    unassigned = list(grudge_list.keys())            # Get list of students in class.\n",
    "    for student in unassigned:\n",
    "        van[student] = 0\n",
    "\n",
    "    # Enter your code here\n",
    "\n",
    "    return van"
   ]
  },
  {
   "cell_type": "code",
   "execution_count": 2,
   "metadata": {
    "collapsed": false,
    "scrolled": true
   },
   "outputs": [
    {
     "name": "stdout",
     "output_type": "stream",
     "text": [
      "{'Telly': 0, 'Oscar': 0, 'CookieMonster': 0, 'BigBird': 0, 'Abby': 0, 'Ernie': 0, 'Grover': 0, 'Zoe': 0, 'Elmo': 0, 'Bert': 0}\n",
      "\n",
      "{'Animal': 0, 'Scooter': 0, 'Fozzie': 0, 'Kermit': 0, 'Chef': 0, 'Walter': 0, 'Rizzo': 0, 'MissPiggy': 0, 'Rowlf': 0, 'Gonzo': 0}\n",
      "\n",
      "{'Hercules': 0, 'ElizabethBraddock': 0, 'CharlesXavier': 0, 'HenryMcCoy': 0, 'OttoOctavius': 0, 'RichardRider': 0, 'CaptainAmerica': 0, 'HenryPym': 0, 'WandaMaximoff': 0, 'DanielRand': 0, 'JosephRobertson': 0, 'RobertDrake': 0, 'GwendolyneStacy': 0, 'LokiLaufeyson': 0, 'Rogue': 0, 'SeanCassidy': 0, 'Volstagg': 0, 'KurtWagner': 0, 'SusanStorm': 0, 'JohannShmidt': 0, 'DaneWhitman': 0, 'Wolverine': 0, 'Spider-Man': 0, 'Vision': 0, 'Uatu': 0, 'ThomasRaymond': 0, 'Galactus': 0, 'OroroMunroe': 0, 'BenjaminGrimm': 0, 'ScottSummers': 0, 'MedusalithAmaquelin': 0, 'EugeneThompson': 0, 'EmmaFrost': 0, 'FrankCastle': 0, 'JanetvanDyne': 0, 'OdinBorson': 0, 'LornaDane': 0, 'JeanGrey': 0, 'CrystaliaAmaquelin': 0, 'ClintonBarton': 0, 'BrianBraddock': 0, 'RemyLeBeau': 0, 'BalderOdinson': 0, 'PiotrRasputin': 0, 'PatriciaWalker': 0, 'NataliaRomanova': 0, 'FranklinRichards': 0, 'HaroldOsborn': 0, 'KatherinePryde': 0, 'ReedRichards': 0, 'JubilationLee': 0, 'NormanOsborn': 0, 'JonathanStorm': 0, 'NamorMcKenzie': 0, 'RedHulk': 0, 'StephenStrange': 0, 'NorrinRadd': 0, 'IllyanaRasputina': 0, 'LukeCage': 0, 'MatthewMurdock': 0, 'JenniferWalters': 0, 'Sabretooth': 0, 'Thor': 0, 'JohnJonahJameson': 0, 'MaryJaneWatson': 0, 'ElizabethRoss': 0, 'SamuelWilson': 0, 'Deadpool': 0, 'WarrenWorthingtonIII': 0, 'RichardJones': 0, 'EdwinJarvis': 0, 'NathanSummers': 0, 'PietroMaximoff': 0, 'CarolDanvers': 0, 'Fandral': 0, 'JamesBuchananBarnes': 0, 'JessicaDrew': 0, 'JamesRhodes': 0, 'AlexanderSummers': 0, 'TimothyDugan': 0, 'RobertodaCosta': 0, 'ElizabethBrant': 0, 'MayReilly': 0, 'FranklinNelson': 0, 'IronMan': 0, 'SimonWilliams': 0, 'DanielleMoonstar': 0, 'JohnathonBlaze': 0, 'MaxEisenhardt': 0, 'RahneSinclair': 0, 'WilsonFisk': 0, 'VictorvonDoom': 0, 'Conan': 0, 'BlaineColt': 0, 'HumanTorch': 0, 'Sif': 0, 'Hulk': 0, 'NicholasFury': 0, 'MarcSpector': 0, 'SamuelGuthrie': 0}\n",
      "\n",
      "{'Hercules': 0, 'ElizabethBraddock': 0, 'CharlesXavier': 0, 'HenryMcCoy': 0, 'OttoOctavius': 0, 'RichardRider': 0, 'CaptainAmerica': 0, 'HenryPym': 0, 'WandaMaximoff': 0, 'DanielRand': 0, 'JosephRobertson': 0, 'RobertDrake': 0, 'GwendolyneStacy': 0, 'LokiLaufeyson': 0, 'Rogue': 0, 'SeanCassidy': 0, 'Volstagg': 0, 'KurtWagner': 0, 'SusanStorm': 0, 'JohannShmidt': 0, 'DaneWhitman': 0, 'Wolverine': 0, 'Spider-Man': 0, 'Vision': 0, 'Uatu': 0, 'ThomasRaymond': 0, 'Galactus': 0, 'OroroMunroe': 0, 'BenjaminGrimm': 0, 'ScottSummers': 0, 'MedusalithAmaquelin': 0, 'EugeneThompson': 0, 'EmmaFrost': 0, 'FrankCastle': 0, 'JanetvanDyne': 0, 'OdinBorson': 0, 'LornaDane': 0, 'JeanGrey': 0, 'CrystaliaAmaquelin': 0, 'ClintonBarton': 0, 'BrianBraddock': 0, 'RemyLeBeau': 0, 'BalderOdinson': 0, 'PiotrRasputin': 0, 'PatriciaWalker': 0, 'NataliaRomanova': 0, 'FranklinRichards': 0, 'HaroldOsborn': 0, 'KatherinePryde': 0, 'ReedRichards': 0, 'JubilationLee': 0, 'NormanOsborn': 0, 'JonathanStorm': 0, 'NamorMcKenzie': 0, 'RedHulk': 0, 'StephenStrange': 0, 'NorrinRadd': 0, 'IllyanaRasputina': 0, 'LukeCage': 0, 'MatthewMurdock': 0, 'JenniferWalters': 0, 'Sabretooth': 0, 'Thor': 0, 'JohnJonahJameson': 0, 'MaryJaneWatson': 0, 'ElizabethRoss': 0, 'SamuelWilson': 0, 'Deadpool': 0, 'WarrenWorthingtonIII': 0, 'RichardJones': 0, 'EdwinJarvis': 0, 'NathanSummers': 0, 'PietroMaximoff': 0, 'CarolDanvers': 0, 'Fandral': 0, 'JamesBuchananBarnes': 0, 'JessicaDrew': 0, 'JamesRhodes': 0, 'AlexanderSummers': 0, 'TimothyDugan': 0, 'RobertodaCosta': 0, 'ElizabethBrant': 0, 'MayReilly': 0, 'FranklinNelson': 0, 'IronMan': 0, 'SimonWilliams': 0, 'DanielleMoonstar': 0, 'JohnathonBlaze': 0, 'MaxEisenhardt': 0, 'RahneSinclair': 0, 'WilsonFisk': 0, 'VictorvonDoom': 0, 'Conan': 0, 'BlaineColt': 0, 'HumanTorch': 0, 'Sif': 0, 'Hulk': 0, 'NicholasFury': 0, 'MarcSpector': 0, 'SamuelGuthrie': 0}\n",
      "\n",
      "{'Hercules': 0, 'ElizabethBraddock': 0, 'CharlesXavier': 0, 'HenryMcCoy': 0, 'OttoOctavius': 0, 'RichardRider': 0, 'CaptainAmerica': 0, 'HenryPym': 0, 'WandaMaximoff': 0, 'DanielRand': 0, 'JosephRobertson': 0, 'RobertDrake': 0, 'GwendolyneStacy': 0, 'LokiLaufeyson': 0, 'Rogue': 0, 'SeanCassidy': 0, 'Volstagg': 0, 'KurtWagner': 0, 'SusanStorm': 0, 'JohannShmidt': 0, 'DaneWhitman': 0, 'Wolverine': 0, 'Spider-Man': 0, 'Vision': 0, 'Uatu': 0, 'ThomasRaymond': 0, 'Galactus': 0, 'OroroMunroe': 0, 'BenjaminGrimm': 0, 'ScottSummers': 0, 'MedusalithAmaquelin': 0, 'EugeneThompson': 0, 'EmmaFrost': 0, 'FrankCastle': 0, 'JanetvanDyne': 0, 'OdinBorson': 0, 'LornaDane': 0, 'JeanGrey': 0, 'CrystaliaAmaquelin': 0, 'ClintonBarton': 0, 'BrianBraddock': 0, 'RemyLeBeau': 0, 'BalderOdinson': 0, 'PiotrRasputin': 0, 'PatriciaWalker': 0, 'NataliaRomanova': 0, 'FranklinRichards': 0, 'HaroldOsborn': 0, 'KatherinePryde': 0, 'ReedRichards': 0, 'JubilationLee': 0, 'NormanOsborn': 0, 'JonathanStorm': 0, 'NamorMcKenzie': 0, 'RedHulk': 0, 'StephenStrange': 0, 'NorrinRadd': 0, 'IllyanaRasputina': 0, 'LukeCage': 0, 'MatthewMurdock': 0, 'JenniferWalters': 0, 'Sabretooth': 0, 'Thor': 0, 'JohnJonahJameson': 0, 'MaryJaneWatson': 0, 'ElizabethRoss': 0, 'SamuelWilson': 0, 'Deadpool': 0, 'WarrenWorthingtonIII': 0, 'RichardJones': 0, 'EdwinJarvis': 0, 'NathanSummers': 0, 'PietroMaximoff': 0, 'CarolDanvers': 0, 'Fandral': 0, 'JamesBuchananBarnes': 0, 'JessicaDrew': 0, 'JamesRhodes': 0, 'AlexanderSummers': 0, 'TimothyDugan': 0, 'RobertodaCosta': 0, 'ElizabethBrant': 0, 'MayReilly': 0, 'FranklinNelson': 0, 'IronMan': 0, 'SimonWilliams': 0, 'DanielleMoonstar': 0, 'JohnathonBlaze': 0, 'MaxEisenhardt': 0, 'RahneSinclair': 0, 'WilsonFisk': 0, 'VictorvonDoom': 0, 'Conan': 0, 'BlaineColt': 0, 'HumanTorch': 0, 'Sif': 0, 'Hulk': 0, 'NicholasFury': 0, 'MarcSpector': 0, 'SamuelGuthrie': 0}\n",
      "\n",
      "{'Hercules': 0, 'ElizabethBraddock': 0, 'CharlesXavier': 0, 'HenryMcCoy': 0, 'OttoOctavius': 0, 'RichardRider': 0, 'CaptainAmerica': 0, 'HenryPym': 0, 'WandaMaximoff': 0, 'DanielRand': 0, 'JosephRobertson': 0, 'RobertDrake': 0, 'GwendolyneStacy': 0, 'LokiLaufeyson': 0, 'Rogue': 0, 'SeanCassidy': 0, 'Volstagg': 0, 'KurtWagner': 0, 'SusanStorm': 0, 'JohannShmidt': 0, 'DaneWhitman': 0, 'Wolverine': 0, 'Spider-Man': 0, 'Vision': 0, 'Uatu': 0, 'ThomasRaymond': 0, 'Galactus': 0, 'OroroMunroe': 0, 'BenjaminGrimm': 0, 'ScottSummers': 0, 'MedusalithAmaquelin': 0, 'EugeneThompson': 0, 'EmmaFrost': 0, 'FrankCastle': 0, 'JanetvanDyne': 0, 'OdinBorson': 0, 'LornaDane': 0, 'JeanGrey': 0, 'CrystaliaAmaquelin': 0, 'ClintonBarton': 0, 'BrianBraddock': 0, 'RemyLeBeau': 0, 'BalderOdinson': 0, 'PiotrRasputin': 0, 'PatriciaWalker': 0, 'NataliaRomanova': 0, 'FranklinRichards': 0, 'HaroldOsborn': 0, 'KatherinePryde': 0, 'ReedRichards': 0, 'JubilationLee': 0, 'NormanOsborn': 0, 'JonathanStorm': 0, 'NamorMcKenzie': 0, 'RedHulk': 0, 'StephenStrange': 0, 'NorrinRadd': 0, 'IllyanaRasputina': 0, 'LukeCage': 0, 'MatthewMurdock': 0, 'JenniferWalters': 0, 'Sabretooth': 0, 'Thor': 0, 'JohnJonahJameson': 0, 'MaryJaneWatson': 0, 'ElizabethRoss': 0, 'SamuelWilson': 0, 'Deadpool': 0, 'WarrenWorthingtonIII': 0, 'RichardJones': 0, 'EdwinJarvis': 0, 'NathanSummers': 0, 'PietroMaximoff': 0, 'CarolDanvers': 0, 'Fandral': 0, 'JamesBuchananBarnes': 0, 'JessicaDrew': 0, 'JamesRhodes': 0, 'AlexanderSummers': 0, 'TimothyDugan': 0, 'RobertodaCosta': 0, 'ElizabethBrant': 0, 'MayReilly': 0, 'FranklinNelson': 0, 'IronMan': 0, 'SimonWilliams': 0, 'DanielleMoonstar': 0, 'JohnathonBlaze': 0, 'MaxEisenhardt': 0, 'RahneSinclair': 0, 'WilsonFisk': 0, 'VictorvonDoom': 0, 'Conan': 0, 'BlaineColt': 0, 'HumanTorch': 0, 'Sif': 0, 'Hulk': 0, 'NicholasFury': 0, 'MarcSpector': 0, 'SamuelGuthrie': 0}\n"
     ]
    }
   ],
   "source": [
    "# Your routine will be tested against the following six grudge lists.\n",
    "\n",
    "from test_Assignment2 import *\n",
    "# imports grudge_list_3, grudge_list_4, grudge_list_5, grudge_list_6\n",
    "\n",
    "grudge_list_1={\n",
    "'Abby' : ['CookieMonster', 'Zoe'],\n",
    "'BigBird' :  ['Telly', 'Zoe'],\n",
    "'Elmo' : ['Telly'],\n",
    "'Grover' : ['Bert'],\n",
    "'Telly' : ['Bert', 'BigBird', 'Elmo', 'Oscar', 'Zoe'],\n",
    "'Bert' : ['Grover', 'Telly', 'Zoe'], \n",
    "'CookieMonster' : ['Abby'], \n",
    "'Ernie' : [],\n",
    "'Oscar' : ['Telly'],\n",
    "'Zoe' : ['Abby', 'Bert', 'BigBird', 'Telly']\n",
    "}\n",
    "\n",
    "grudge_list_2={\n",
    "'Animal' : ['Fozzie', 'Gonzo', 'Scooter'],\n",
    "'Fozzie' : ['Animal'],\n",
    "'Kermit' : ['MissPiggy'],\n",
    "'Rizzo' : ['Scooter'],\n",
    "'Scooter' : ['Animal', 'Chef', 'Rowlf', 'Rizzo'],\n",
    "'Chef' : ['Scooter'],\n",
    "'Gonzo' : ['Animal', 'Rowlf'],\n",
    "'MissPiggy' : ['Kermit'],\n",
    "'Rowlf' : ['Gonzo', 'Scooter'],\n",
    "'Walter' : []\n",
    "}\n",
    "\n",
    "print(assign(grudge_list_1))\n",
    "print()\n",
    "print(assign(grudge_list_2))\n",
    "print()\n",
    "print(assign(grudge_list_3))\n",
    "print()\n",
    "print(assign(grudge_list_4))\n",
    "print()\n",
    "print(assign(grudge_list_5))\n",
    "print()\n",
    "print(assign(grudge_list_6))"
   ]
  },
  {
   "cell_type": "markdown",
   "metadata": {
    "collapsed": false
   },
   "source": [
    "**(c)** Prove that if your algorithm produces an assignment, then the assignment is valid. In other words, no two students with a grudge are in the same van. **(2 marks)**"
   ]
  },
  {
   "cell_type": "markdown",
   "metadata": {
    "collapsed": false
   },
   "source": [
    "*Your answer goes here*. You can double click this line to edit. $\\LaTeX$ is supported within two dollar signs ($). Press Shift+Enter to render."
   ]
  },
  {
   "cell_type": "markdown",
   "metadata": {
    "collapsed": false
   },
   "source": [
    "**(d)** Show that your algorithm runs in time $O(n+m)$, where $n$ is the number of students and $m$ is the number of grudges. **(1 marks)**"
   ]
  },
  {
   "cell_type": "markdown",
   "metadata": {
    "collapsed": false
   },
   "source": [
    "*Your answer goes here*. You can double click this line to edit. $\\LaTeX$ is supported within two dollar signs ($). Press Shift+Enter to render."
   ]
  },
  {
   "cell_type": "markdown",
   "metadata": {
    "collapsed": false
   },
   "source": [
    "**(e)** When your algorithm returns `None`, your principal is not convinced. She thinks that the algorithm has a bug and your task is to convince her. Specifically, modify your algorithm above to produce a list of students that cannot be assigned in two vans. Remember that this list cannot be too big! **(3 marks)**"
   ]
  },
  {
   "cell_type": "markdown",
   "metadata": {
    "collapsed": false
   },
   "source": [
    "*Your answer goes here*. You can double click this line to edit. $\\LaTeX$ is supported within two dollar signs ($). Press Shift+Enter to render."
   ]
  },
  {
   "cell_type": "code",
   "execution_count": 3,
   "metadata": {
    "collapsed": false
   },
   "outputs": [
   ],
   "source": [
    "# Enter your code here\n",
    "\n",
    "def assign_modified(grudge_list):\n",
    "    van = {}                                         # States which van a student is assigned to. 0 means unassigned, 1 means van 1 and -1 means van 2.\n",
    "    unassigned = list(grudge_list.keys())            # Get list of students in class.\n",
    "    for student in unassigned:\n",
    "        van[student] = 0\n",
    "\n",
    "\n",
    "    return van\n",
    "\n"
   ]
  },
  {
   "cell_type": "code",
   "execution_count": 4,
   "metadata": {
    "collapsed": false
   },
   "outputs": [
    {
     "name": "stdout",
     "output_type": "stream",
     "text": [
      "{'Telly': 0, 'Oscar': 0, 'CookieMonster': 0, 'BigBird': 0, 'Abby': 0, 'Ernie': 0, 'Grover': 0, 'Zoe': 0, 'Elmo': 0, 'Bert': 0}\n",
      "\n",
      "{'Animal': 0, 'Scooter': 0, 'Fozzie': 0, 'Kermit': 0, 'Chef': 0, 'Walter': 0, 'Rizzo': 0, 'MissPiggy': 0, 'Rowlf': 0, 'Gonzo': 0}\n",
      "\n",
      "{'Hercules': 0, 'ElizabethBraddock': 0, 'CharlesXavier': 0, 'HenryMcCoy': 0, 'OttoOctavius': 0, 'RichardRider': 0, 'CaptainAmerica': 0, 'HenryPym': 0, 'WandaMaximoff': 0, 'DanielRand': 0, 'JosephRobertson': 0, 'RobertDrake': 0, 'GwendolyneStacy': 0, 'LokiLaufeyson': 0, 'Rogue': 0, 'SeanCassidy': 0, 'Volstagg': 0, 'KurtWagner': 0, 'SusanStorm': 0, 'JohannShmidt': 0, 'DaneWhitman': 0, 'Wolverine': 0, 'Spider-Man': 0, 'Vision': 0, 'Uatu': 0, 'ThomasRaymond': 0, 'Galactus': 0, 'OroroMunroe': 0, 'BenjaminGrimm': 0, 'ScottSummers': 0, 'MedusalithAmaquelin': 0, 'EugeneThompson': 0, 'EmmaFrost': 0, 'FrankCastle': 0, 'JanetvanDyne': 0, 'OdinBorson': 0, 'LornaDane': 0, 'JeanGrey': 0, 'CrystaliaAmaquelin': 0, 'ClintonBarton': 0, 'BrianBraddock': 0, 'RemyLeBeau': 0, 'BalderOdinson': 0, 'PiotrRasputin': 0, 'PatriciaWalker': 0, 'NataliaRomanova': 0, 'FranklinRichards': 0, 'HaroldOsborn': 0, 'KatherinePryde': 0, 'ReedRichards': 0, 'JubilationLee': 0, 'NormanOsborn': 0, 'JonathanStorm': 0, 'NamorMcKenzie': 0, 'RedHulk': 0, 'StephenStrange': 0, 'NorrinRadd': 0, 'IllyanaRasputina': 0, 'LukeCage': 0, 'MatthewMurdock': 0, 'JenniferWalters': 0, 'Sabretooth': 0, 'Thor': 0, 'JohnJonahJameson': 0, 'MaryJaneWatson': 0, 'ElizabethRoss': 0, 'SamuelWilson': 0, 'Deadpool': 0, 'WarrenWorthingtonIII': 0, 'RichardJones': 0, 'EdwinJarvis': 0, 'NathanSummers': 0, 'PietroMaximoff': 0, 'CarolDanvers': 0, 'Fandral': 0, 'JamesBuchananBarnes': 0, 'JessicaDrew': 0, 'JamesRhodes': 0, 'AlexanderSummers': 0, 'TimothyDugan': 0, 'RobertodaCosta': 0, 'ElizabethBrant': 0, 'MayReilly': 0, 'FranklinNelson': 0, 'IronMan': 0, 'SimonWilliams': 0, 'DanielleMoonstar': 0, 'JohnathonBlaze': 0, 'MaxEisenhardt': 0, 'RahneSinclair': 0, 'WilsonFisk': 0, 'VictorvonDoom': 0, 'Conan': 0, 'BlaineColt': 0, 'HumanTorch': 0, 'Sif': 0, 'Hulk': 0, 'NicholasFury': 0, 'MarcSpector': 0, 'SamuelGuthrie': 0}\n",
      "\n",
      "{'Hercules': 0, 'ElizabethBraddock': 0, 'CharlesXavier': 0, 'HenryMcCoy': 0, 'OttoOctavius': 0, 'RichardRider': 0, 'CaptainAmerica': 0, 'HenryPym': 0, 'WandaMaximoff': 0, 'DanielRand': 0, 'JosephRobertson': 0, 'RobertDrake': 0, 'GwendolyneStacy': 0, 'LokiLaufeyson': 0, 'Rogue': 0, 'SeanCassidy': 0, 'Volstagg': 0, 'KurtWagner': 0, 'SusanStorm': 0, 'JohannShmidt': 0, 'DaneWhitman': 0, 'Wolverine': 0, 'Spider-Man': 0, 'Vision': 0, 'Uatu': 0, 'ThomasRaymond': 0, 'Galactus': 0, 'OroroMunroe': 0, 'BenjaminGrimm': 0, 'ScottSummers': 0, 'MedusalithAmaquelin': 0, 'EugeneThompson': 0, 'EmmaFrost': 0, 'FrankCastle': 0, 'JanetvanDyne': 0, 'OdinBorson': 0, 'LornaDane': 0, 'JeanGrey': 0, 'CrystaliaAmaquelin': 0, 'ClintonBarton': 0, 'BrianBraddock': 0, 'RemyLeBeau': 0, 'BalderOdinson': 0, 'PiotrRasputin': 0, 'PatriciaWalker': 0, 'NataliaRomanova': 0, 'FranklinRichards': 0, 'HaroldOsborn': 0, 'KatherinePryde': 0, 'ReedRichards': 0, 'JubilationLee': 0, 'NormanOsborn': 0, 'JonathanStorm': 0, 'NamorMcKenzie': 0, 'RedHulk': 0, 'StephenStrange': 0, 'NorrinRadd': 0, 'IllyanaRasputina': 0, 'LukeCage': 0, 'MatthewMurdock': 0, 'JenniferWalters': 0, 'Sabretooth': 0, 'Thor': 0, 'JohnJonahJameson': 0, 'MaryJaneWatson': 0, 'ElizabethRoss': 0, 'SamuelWilson': 0, 'Deadpool': 0, 'WarrenWorthingtonIII': 0, 'RichardJones': 0, 'EdwinJarvis': 0, 'NathanSummers': 0, 'PietroMaximoff': 0, 'CarolDanvers': 0, 'Fandral': 0, 'JamesBuchananBarnes': 0, 'JessicaDrew': 0, 'JamesRhodes': 0, 'AlexanderSummers': 0, 'TimothyDugan': 0, 'RobertodaCosta': 0, 'ElizabethBrant': 0, 'MayReilly': 0, 'FranklinNelson': 0, 'IronMan': 0, 'SimonWilliams': 0, 'DanielleMoonstar': 0, 'JohnathonBlaze': 0, 'MaxEisenhardt': 0, 'RahneSinclair': 0, 'WilsonFisk': 0, 'VictorvonDoom': 0, 'Conan': 0, 'BlaineColt': 0, 'HumanTorch': 0, 'Sif': 0, 'Hulk': 0, 'NicholasFury': 0, 'MarcSpector': 0, 'SamuelGuthrie': 0}\n",
      "\n",
      "{'Hercules': 0, 'ElizabethBraddock': 0, 'CharlesXavier': 0, 'HenryMcCoy': 0, 'OttoOctavius': 0, 'RichardRider': 0, 'CaptainAmerica': 0, 'HenryPym': 0, 'WandaMaximoff': 0, 'DanielRand': 0, 'JosephRobertson': 0, 'RobertDrake': 0, 'GwendolyneStacy': 0, 'LokiLaufeyson': 0, 'Rogue': 0, 'SeanCassidy': 0, 'Volstagg': 0, 'KurtWagner': 0, 'SusanStorm': 0, 'JohannShmidt': 0, 'DaneWhitman': 0, 'Wolverine': 0, 'Spider-Man': 0, 'Vision': 0, 'Uatu': 0, 'ThomasRaymond': 0, 'Galactus': 0, 'OroroMunroe': 0, 'BenjaminGrimm': 0, 'ScottSummers': 0, 'MedusalithAmaquelin': 0, 'EugeneThompson': 0, 'EmmaFrost': 0, 'FrankCastle': 0, 'JanetvanDyne': 0, 'OdinBorson': 0, 'LornaDane': 0, 'JeanGrey': 0, 'CrystaliaAmaquelin': 0, 'ClintonBarton': 0, 'BrianBraddock': 0, 'RemyLeBeau': 0, 'BalderOdinson': 0, 'PiotrRasputin': 0, 'PatriciaWalker': 0, 'NataliaRomanova': 0, 'FranklinRichards': 0, 'HaroldOsborn': 0, 'KatherinePryde': 0, 'ReedRichards': 0, 'JubilationLee': 0, 'NormanOsborn': 0, 'JonathanStorm': 0, 'NamorMcKenzie': 0, 'RedHulk': 0, 'StephenStrange': 0, 'NorrinRadd': 0, 'IllyanaRasputina': 0, 'LukeCage': 0, 'MatthewMurdock': 0, 'JenniferWalters': 0, 'Sabretooth': 0, 'Thor': 0, 'JohnJonahJameson': 0, 'MaryJaneWatson': 0, 'ElizabethRoss': 0, 'SamuelWilson': 0, 'Deadpool': 0, 'WarrenWorthingtonIII': 0, 'RichardJones': 0, 'EdwinJarvis': 0, 'NathanSummers': 0, 'PietroMaximoff': 0, 'CarolDanvers': 0, 'Fandral': 0, 'JamesBuchananBarnes': 0, 'JessicaDrew': 0, 'JamesRhodes': 0, 'AlexanderSummers': 0, 'TimothyDugan': 0, 'RobertodaCosta': 0, 'ElizabethBrant': 0, 'MayReilly': 0, 'FranklinNelson': 0, 'IronMan': 0, 'SimonWilliams': 0, 'DanielleMoonstar': 0, 'JohnathonBlaze': 0, 'MaxEisenhardt': 0, 'RahneSinclair': 0, 'WilsonFisk': 0, 'VictorvonDoom': 0, 'Conan': 0, 'BlaineColt': 0, 'HumanTorch': 0, 'Sif': 0, 'Hulk': 0, 'NicholasFury': 0, 'MarcSpector': 0, 'SamuelGuthrie': 0}\n",
      "\n",
      "{'Hercules': 0, 'ElizabethBraddock': 0, 'CharlesXavier': 0, 'HenryMcCoy': 0, 'OttoOctavius': 0, 'RichardRider': 0, 'CaptainAmerica': 0, 'HenryPym': 0, 'WandaMaximoff': 0, 'DanielRand': 0, 'JosephRobertson': 0, 'RobertDrake': 0, 'GwendolyneStacy': 0, 'LokiLaufeyson': 0, 'Rogue': 0, 'SeanCassidy': 0, 'Volstagg': 0, 'KurtWagner': 0, 'SusanStorm': 0, 'JohannShmidt': 0, 'DaneWhitman': 0, 'Wolverine': 0, 'Spider-Man': 0, 'Vision': 0, 'Uatu': 0, 'ThomasRaymond': 0, 'Galactus': 0, 'OroroMunroe': 0, 'BenjaminGrimm': 0, 'ScottSummers': 0, 'MedusalithAmaquelin': 0, 'EugeneThompson': 0, 'EmmaFrost': 0, 'FrankCastle': 0, 'JanetvanDyne': 0, 'OdinBorson': 0, 'LornaDane': 0, 'JeanGrey': 0, 'CrystaliaAmaquelin': 0, 'ClintonBarton': 0, 'BrianBraddock': 0, 'RemyLeBeau': 0, 'BalderOdinson': 0, 'PiotrRasputin': 0, 'PatriciaWalker': 0, 'NataliaRomanova': 0, 'FranklinRichards': 0, 'HaroldOsborn': 0, 'KatherinePryde': 0, 'ReedRichards': 0, 'JubilationLee': 0, 'NormanOsborn': 0, 'JonathanStorm': 0, 'NamorMcKenzie': 0, 'RedHulk': 0, 'StephenStrange': 0, 'NorrinRadd': 0, 'IllyanaRasputina': 0, 'LukeCage': 0, 'MatthewMurdock': 0, 'JenniferWalters': 0, 'Sabretooth': 0, 'Thor': 0, 'JohnJonahJameson': 0, 'MaryJaneWatson': 0, 'ElizabethRoss': 0, 'SamuelWilson': 0, 'Deadpool': 0, 'WarrenWorthingtonIII': 0, 'RichardJones': 0, 'EdwinJarvis': 0, 'NathanSummers': 0, 'PietroMaximoff': 0, 'CarolDanvers': 0, 'Fandral': 0, 'JamesBuchananBarnes': 0, 'JessicaDrew': 0, 'JamesRhodes': 0, 'AlexanderSummers': 0, 'TimothyDugan': 0, 'RobertodaCosta': 0, 'ElizabethBrant': 0, 'MayReilly': 0, 'FranklinNelson': 0, 'IronMan': 0, 'SimonWilliams': 0, 'DanielleMoonstar': 0, 'JohnathonBlaze': 0, 'MaxEisenhardt': 0, 'RahneSinclair': 0, 'WilsonFisk': 0, 'VictorvonDoom': 0, 'Conan': 0, 'BlaineColt': 0, 'HumanTorch': 0, 'Sif': 0, 'Hulk': 0, 'NicholasFury': 0, 'MarcSpector': 0, 'SamuelGuthrie': 0}\n"
     ]
    }
   ],
   "source": [
    "from test_Assignment2 import *\n",
    "\n",
    "# imports grudge_list_3, grudge_list_4, grudge_list_5, grudge_list_6\n",
    "\n",
    "\n",
    "grudge_list_1={\n",
    "'Abby' : ['CookieMonster', 'Zoe'],\n",
    "'BigBird' :  ['Telly', 'Zoe'],\n",
    "'Elmo' : ['Telly'],\n",
    "'Grover' : ['Bert'],\n",
    "'Telly' : ['Bert', 'BigBird', 'Elmo', 'Oscar', 'Zoe'],\n",
    "'Bert' : ['Grover', 'Telly', 'Zoe'], \n",
    "'CookieMonster' : ['Abby'], \n",
    "'Ernie' : [],\n",
    "'Oscar' : ['Telly'],\n",
    "'Zoe' : ['Abby', 'Bert', 'BigBird', 'Telly']\n",
    "}\n",
    "\n",
    "grudge_list_2={\n",
    "'Animal' : ['Fozzie', 'Gonzo', 'Scooter'],\n",
    "'Fozzie' : ['Animal'],\n",
    "'Kermit' : ['MissPiggy'],\n",
    "'Rizzo' : ['Scooter'],\n",
    "'Scooter' : ['Animal', 'Chef', 'Rowlf', 'Rizzo'],\n",
    "'Chef' : ['Scooter'],\n",
    "'Gonzo' : ['Animal', 'Rowlf'],\n",
    "'MissPiggy' : ['Kermit'],\n",
    "'Rowlf' : ['Gonzo', 'Scooter'],\n",
    "'Walter' : []\n",
    "}\n",
    "\n",
    "print(assign_modified(grudge_list_1))\n",
    "print()\n",
    "print(assign_modified(grudge_list_2))\n",
    "print()\n",
    "print(assign_modified(grudge_list_3))\n",
    "print()\n",
    "print(assign_modified(grudge_list_4))\n",
    "print()\n",
    "print(assign_modified(grudge_list_5))\n",
    "print()\n",
    "print(assign_modified(grudge_list_6))"
   ]
  },
  {
   "cell_type": "code",
   "execution_count": 5,
   "metadata": {
    "collapsed": false,
    "scrolled": true
   },
   "outputs": [
   ],
   "source": [
    "# Your routine will be tested against the following six grudge lists.\n",
    "\n",
    "from test_Assignment2 import *\n",
    "# imports grudge_list_3, grudge_list_4, grudge_list_5, grudge_list_6\n",
    "\n",
    "grudge_list_1={\n",
    "'Abby' : ['CookieMonster', 'Zoe'],\n",
    "'BigBird' :  ['Telly', 'Zoe'],\n",
    "'Elmo' : ['Telly'],\n",
    "'Grover' : ['Bert'],\n",
    "'Telly' : ['Bert', 'BigBird', 'Elmo', 'Oscar', 'Zoe'],\n",
    "'Bert' : ['Grover', 'Telly', 'Zoe'], \n",
    "'CookieMonster' : ['Abby'], \n",
    "'Ernie' : [],\n",
    "'Oscar' : ['Telly'],\n",
    "'Zoe' : ['Abby', 'Bert', 'BigBird', 'Telly']\n",
    "}\n",
    "\n",
    "grudge_list_2={\n",
    "'Animal' : ['Fozzie', 'Gonzo', 'Scooter'],\n",
    "'Fozzie' : ['Animal'],\n",
    "'Kermit' : ['MissPiggy'],\n",
    "'Rizzo' : ['Scooter'],\n",
    "'Scooter' : ['Animal', 'Chef', 'Rowlf', 'Rizzo'],\n",
    "'Chef' : ['Scooter'],\n",
    "'Gonzo' : ['Animal', 'Rowlf'],\n",
    "'MissPiggy' : ['Kermit'],\n",
    "'Rowlf' : ['Gonzo', 'Scooter'],\n",
    "'Walter' : []\n",
    "}"
   ]
  },
  {
   "cell_type": "code",
   "execution_count": 0,
   "metadata": {
    "collapsed": false
   },
   "outputs": [
   ],
   "source": [
   ]
  }
 ],
 "metadata": {
  "kernelspec": {
   "display_name": "Python 3 (Anaconda)",
   "language": "python",
   "name": "anaconda3"
  },
  "language_info": {
   "codemirror_mode": {
    "name": "ipython",
    "version": 3
   },
   "file_extension": ".py",
   "mimetype": "text/x-python",
   "name": "python",
   "nbconvert_exporter": "python",
   "pygments_lexer": "ipython3",
   "version": "3.5.4"
  }
 },
 "nbformat": 4,
 "nbformat_minor": 0
}