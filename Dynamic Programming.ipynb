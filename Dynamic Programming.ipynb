{
 "cells": [
  {
   "cell_type": "markdown",
   "metadata": {
    "collapsed": false
   },
   "source": [
    "**Preamble**\n",
    "\n",
    "**Colloboration Policy**. The student is to *explicitly identify* his/her collaborators in the assignment. If the student did not work with anyone, he/she should indicate `Collaborators=['none']`. If the student obtains a solution through research (e.g., on the web), acknowledge the source, but write up the solution in his/her own words. There will be a one mark penalty if a student fails to indicate his/her collaborators.\n",
    "\n",
    "**Submission Deadline**. I will allow late submissions. However, a late submission will be subject to a penalty that is commensurate to the 'lateness'. Specifically, the penalty is as follows.\n",
    "```\n",
    "* Before 18 Apr (Wed), 13:00hrs                    = No penalty\n",
    "* 18 Apr (Wed), 13:01hrs to 22 Mar (Thu), 13:00hrs = 1 Mark Penalty\n",
    "* 19 Apr (Thu), 13:01hrs to 23 Mar (Fri), 13:00hrs = 2 Marks Penalty\n",
    "* 20 Apr (Fri), 13:01hrs to 24 Mar (Sat), 13:00hrs = 3 Marks Penalty\n",
    "* 21 Apr (Sat), 13:01hrs to 25 Mar (Sun), 13:00hrs = 4 Marks Penalty\n",
    "* 22 Apr (Sun), 13:01hrs to 26 Mar (Mon), 13:00hrs = 5 Marks Penalty\n",
    "* After 23 Apr (Mon), 13:01hrs                     = Assignment is no longer graded.\n",
    "```\n",
    "\n",
    "\n",
    "**There will be NO EXCEPTIONS to this grading policy.**"
   ]
  },
  {
   "cell_type": "code",
   "execution_count": 1,
   "metadata": {
    "collapsed": false
   },
   "outputs": [
    {
     "name": "stdout",
     "output_type": "stream",
     "text": [
      "Your name is .\n",
      "Your collaborators are None.\n",
      "Your submission is on 18 Apr at 1200hrs.\n",
      "\n",
      "******************\n",
      "Your penalty: 0\n",
      "******************\n"
     ]
    }
   ],
   "source": [
    "Name = ''\n",
    "Collaborators = 'None'\n",
    "\n",
    "\n",
    "# Indicate your submission time. You may deviate slightly from the actual submission time. Be mindful that I am able to check the edit history.\n",
    "\n",
    "date = 18 # CHANGETHIS # DATE ONLY. I.E. INTEGER BETWEEN 1 and 30\n",
    "hour = 12 #'Enter the hour (in 24 hours format)'\n",
    "date = 18\n",
    "hour = 12\n",
    "\n",
    "print('Your name is {}.'.format(Name))\n",
    "print('Your collaborators are {}.'.format(Collaborators))\n",
    "print('Your submission is on {} Apr at {}00hrs.'.format(date,hour))\n",
    "print()\n",
    "\n",
    "penalty=0\n",
    "    \n",
    "penalty += date-18\n",
    "\n",
    "if (hour>13): penalty+=1    \n",
    "    \n",
    "if penalty>=5:\n",
    "    \n",
    "    print(\"******************\")\n",
    "    print(\"Your assignment is NOT graded.\")\n",
    "    print(\"******************\")\n",
    "\n",
    "    \n",
    "else:\n",
    "    \n",
    "    penalty=max([0,penalty])\n",
    "    \n",
    "    pc=0\n",
    "    if Collaborators=='' or Collaborators=='CHANGETHIS': \n",
    "        penalty+=1\n",
    "        pc=1\n",
    "    \n",
    "    print(\"******************\")\n",
    "    print(\"Your penalty: {}\".format(penalty))\n",
    "    if(pc>0): print(\"You were penalized for not indicating your collaborators!\")\n",
    "    print(\"******************\")"
   ]
  },
  {
   "cell_type": "markdown",
   "metadata": {
    "collapsed": false
   },
   "source": [
    "# Assignment 3\n",
    "\n",
    "## May the odds be ever in your favour\n",
    "\n",
    "In your school, the class monitor is elected every semester. There are $n$ columns of students in the class seating arrangement, with each column containing $m$ students. Here, $n$ and $m$ are assumed to be even.\n",
    "\n",
    "As the incumbent monitor, you enjoyed overwhelming support in the previous election. However, due to the massive fight in the class outing, almost half the class now dislikes you. You still have friends on whom you can rely to vote for you, but these friends are distributed across the $n$ columns.\n",
    "\n",
    "How the election works is that the class will be divided into two halves: left and right. If you have _more than half_ of votes in both halves, then you will be re-elected. As the incumbent, you have the freedom to assign which columns go into which half of the class. How do you maximise your chances?\n",
    "\n",
    "**Example**. Suppose that $n=4$ and $m=10$. The distribution of your voters are as such:\n",
    "\n",
    "\\begin{array}{|c|cccc|}\n",
    "\\hline\n",
    "\\text{Column} & 1 & 2 & 3 & 4 \\\\\n",
    "\\hline\n",
    "\\text{Voting for you} & 6 & 4 & 7 & 5 \\\\\n",
    "\\text{Voting against} & 4 & 6 & 3 & 5 \\\\\\hline \n",
    "\\end{array}\n",
    "\n",
    "(In your code, this will be given as a list `votes = [6, 4, 7, 5]`, with $m$ specified as another parameter.)\n",
    "\n",
    "By default, we assign columns $1$ and $2$ to the left half, and columns $3$ and $4$ to the right half.\n",
    "However, you only have 10 votes on the left side, which is not sufficient to guarantee the win. \n",
    "On the other hand, if we assign columns $1$ and $4$ to the left half, and columns $2$ and $3$ to the right half,\n",
    "then you will have 11 votes on both halves of the class, securing your re-election.\n",
    "If we run through all possibilities, we have the following \n",
    "(see problem description for definitions of $v_L$ and $v_R$)\n",
    "\n",
    "\\begin{array}{|c|c|c|c|c|}\n",
    "\\hline\n",
    "\\text{left} & \\text{right} & v_L & v_R  & \\text{outcome} \\\\\n",
    "\\hline\n",
    "[1,2] & [3,4] & 10 & 12 & \\text{wins right only}\\\\\n",
    "[1,3] & [2,4] & 13 & 9 &\\text{wins left only}\\\\\n",
    "[1,4] & [2,3] & 11 & 11 &\\text{wins both!}\\\\\n",
    "\\hline \n",
    "\\end{array}\n",
    "\n",
    "\n",
    "## Problem description\n",
    "\n",
    "> You are given a class with $n$ columns containing $m$ students per column and information on how many votes you have per column (list `votes`). \n",
    ">Determine if it is possible to arrange the columns into two halves such that you have a *majority* in both halves of the class.\n",
    "\n",
    "Define $v_i$ to be the number of votes for you in column $i$ and $v$ to be the total number of votes for you. \n",
    "\n",
    "\n",
    "1. To win in both halfs, we need $$v  \\geq \\frac{1}{2}mn + 2.$$ \n",
    "\n",
    "After arranging the class, define $v_L$ and $v_R$ to be the number of votes for you in the left and right halves respectively. \n",
    "\n",
    "2. In order to win the left half, we need $$v_L \\geq \\frac{1}{4}mn+1.$$ \n",
    "\n",
    "3. In order to win the right half, we need that $v_R = v - v_L \\geq \\frac{1}{4}mn+1$, or $$v_L \\leq  v - \\frac{1}{4}mn -1.$$\n",
    "\n",
    "4. To conclude, it is possible to win if there exists a configuration of the class such that $$\\frac{1}{4}mn+1 \\leq v_L \\leq  v - \\frac{1}{4}mn -1.$$ \n",
    "\n",
    "Returning to our example, $m=10$, $n=4$ and $v=22$. So, $\\frac{1}{4}mn+1=11$ and $v-\\frac{1}{4}mn-1=11$.\n",
    "You are able to win because there is an arrangement such that $v_L=11$."
   ]
  },
  {
   "cell_type": "markdown",
   "metadata": {
    "collapsed": false
   },
   "source": [
    "**(a) Identify a suitable collection of subproblems. (2 marks)**"
   ]
  },
  {
   "cell_type": "markdown",
   "metadata": {
    "collapsed": false
   },
   "source": [
    "*Your answer goes here*. You can double click this line to edit. $\\LaTeX$ is supported within two dollar signs ($). Press Shift+Enter to render."
   ]
  },
  {
   "cell_type": "markdown",
   "metadata": {
    "collapsed": false
   },
   "source": [
    "**(b) Propose and prove a recursion for ${\\tt possible }(i,j,k)$. (2 marks)**"
   ]
  },
  {
   "cell_type": "markdown",
   "metadata": {
    "collapsed": false
   },
   "source": [
    "*Your answer goes here*. You can double click this line to edit. $\\LaTeX$ is supported within two dollar signs ($). Press Shift+Enter to render."
   ]
  },
  {
   "cell_type": "markdown",
   "metadata": {
    "collapsed": false
   },
   "source": [
    "**( c ) Build your solutions. (2 marks)**\n",
    "\n",
    "(i) Determine ${\\tt possible }(i,1,k)$."
   ]
  },
  {
   "cell_type": "markdown",
   "metadata": {
    "collapsed": false
   },
   "source": [
    "*Your answer goes here*. You can double click this line to edit. $\\LaTeX$ is supported within two dollar signs ($). Press Shift+Enter to render."
   ]
  },
  {
   "cell_type": "markdown",
   "metadata": {
    "collapsed": false
   },
   "source": [
    "(ii) Determine an order for evaluating ${\\tt possible }(i,j,k)$ and explain why it works."
   ]
  },
  {
   "cell_type": "markdown",
   "metadata": {
    "collapsed": false
   },
   "source": [
    "*Your answer goes here*. You can double click this line to edit. $\\LaTeX$ is supported within two dollar signs ($). Press Shift+Enter to render."
   ]
  },
  {
   "cell_type": "markdown",
   "metadata": {
    "collapsed": false
   },
   "source": [
    "(iii) Determine the condition that states a winning configuration exists."
   ]
  },
  {
   "cell_type": "markdown",
   "metadata": {
    "collapsed": false
   },
   "source": [
    "*Your answer goes here*. You can double click this line to edit. $\\LaTeX$ is supported within two dollar signs ($). Press Shift+Enter to render."
   ]
  },
  {
   "cell_type": "markdown",
   "metadata": {
    "collapsed": false
   },
   "source": [
    "**(d) Evaluate the space and running time. (2 marks)**\n",
    "\n",
    "(i) Determine the intermediate results that you will be storing."
   ]
  },
  {
   "cell_type": "markdown",
   "metadata": {
    "collapsed": false
   },
   "source": [
    "*Your answer goes here*. You can double click this line to edit. $\\LaTeX$ is supported within two dollar signs ($). Press Shift+Enter to render."
   ]
  },
  {
   "cell_type": "markdown",
   "metadata": {
    "collapsed": false
   },
   "source": [
    "(ii) Determine the running time. The running time will be of the form $O(m^r n^s$) for some integers $r,s$."
   ]
  },
  {
   "cell_type": "markdown",
   "metadata": {
    "collapsed": false
   },
   "source": [
    "*Your answer goes here*. You can double click this line to edit. $\\LaTeX$ is supported within two dollar signs ($). Press Shift+Enter to render."
   ]
  },
  {
   "cell_type": "markdown",
   "metadata": {
    "collapsed": false
   },
   "source": [
    "**(e) Implement your routine to determine if winning the election is possible. (2 marks)**"
   ]
  },
  {
   "cell_type": "code",
   "execution_count": 2,
   "metadata": {
    "collapsed": false
   },
   "outputs": [
   ],
   "source": [
    "def winnable(votes, m):\n",
    "    n = len(votes)     # Number of columns\n",
    "    v = sum(votes)\n",
    "\n",
    "    # your code goes here\n",
    "\n",
    "    return # CHANGETHIS"
   ]
  },
  {
   "cell_type": "code",
   "execution_count": 3,
   "metadata": {
    "collapsed": false
   },
   "outputs": [
   ],
   "source": [
    "# Your routine will be tested against the following six vote lists.\n",
    "\n",
    "votes1 = [5]*28+[6]*2\n",
    "m1 = 10\n",
    "\n",
    "votes2 = [5]*29+[10]*1\n",
    "m2 = 10\n",
    "\n",
    "votes3 =  [8, 8, 16, 12, 12, 12, 4, 4, 12, 4, 4, 4, 8, 12, 12, 8, 8, 16, 12, 4, 16, 16, 12, 16, 12, 16, 12, 4, 16, 4, 4, 12, 4, 12, 12, 4, 16, 12, 16, 8]\n",
    "m3 =  20\n",
    "\n",
    "votes4 =  [22, 21, 34, 39, 28, 33, 32, 40, 22, 34, 36, 27, 37, 34, 40, 38, 39, 32, 37, 40, 31, 37, 22, 21, 35, 34, 24, 40, 34, 21, 24, 20, 30, 31, 22, 30, 31, 25, 20, 38, 24, 23, 32, 27, 20, 31, 27, 32, 22, 32, 33, 34, 40, 38, 36, 29, 34, 24, 24, 39, 32, 37, 30, 20, 29, 26, 36, 40, 34, 22, 30, 27, 38, 27, 26, 28, 23, 40, 31, 22, 23, 35, 23, 31, 23, 39, 30, 20, 20, 35, 27, 23, 23, 29, 40, 20, 34, 40, 28, 25]\n",
    "m4 =  50\n",
    "\n",
    "votes5 =  [25, 25, 25, 24, 25, 24, 24, 25, 26, 25, 26, 24, 25, 26, 24, 26, 24, 26, 26, 25, 26, 24, 26, 24, 26, 26, 26, 25, 25, 26, 24, 26, 25, 25, 24, 25, 25, 26, 26, 26, 25, 26, 25, 26, 25, 25, 24, 24, 24, 25, 24, 26, 25, 24, 26, 24, 24, 26, 24, 26, 24, 24, 24, 26, 24, 25, 24, 26, 25, 25, 26, 25, 25, 25, 25, 26, 25, 24, 25, 25, 24, 24, 24, 26, 26, 26, 25, 24, 25, 25, 25, 26, 25, 24, 26, 24, 25, 26, 24, 26]\n",
    "m5 =  50\n",
    "\n",
    "\n",
    "print(\"winning is possible for votes1:\", winnable(votes1,m1))\n",
    "print()\n",
    "\n",
    "print(\"winning is possible for votes2:\", winnable(votes2,m2))\n",
    "print()\n",
    "\n",
    "print(\"winning is possible for votes3:\", winnable(votes3,m3))\n",
    "print()\n",
    "\n",
    "print(\"winning is possible for votes4:\", winnable(votes4,m4))\n",
    "print()\n",
    "\n",
    "print(\"winning is possible for votes5:\", winnable(votes5,m5))\n",
    "print()\n",
    "\n"
   ]
  },
  {
   "cell_type": "code",
   "execution_count": 0,
   "metadata": {
    "collapsed": false
   },
   "outputs": [
   ],
   "source": [
   ]
  }
 ],
 "metadata": {
  "kernelspec": {
   "display_name": "Python 3 (Anaconda)",
   "language": "python",
   "name": "anaconda3"
  },
  "language_info": {
   "codemirror_mode": {
    "name": "ipython",
    "version": 3
   },
   "file_extension": ".py",
   "mimetype": "text/x-python",
   "name": "python",
   "nbconvert_exporter": "python",
   "pygments_lexer": "ipython3",
   "version": "3.5.5"
  }
 },
 "nbformat": 4,
 "nbformat_minor": 0
}